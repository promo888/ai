{
 "cells": [
  {
   "cell_type": "code",
   "execution_count": 73,
   "metadata": {},
   "outputs": [
    {
     "name": "stdout",
     "output_type": "stream",
     "text": [
      "Before drop NaNs len:  464\n",
      "After drop NaNs len:  264\n",
      "debug\n"
     ]
    },
    {
     "name": "stderr",
     "output_type": "stream",
     "text": [
      "/home/igor/anaconda3/lib/python3.7/site-packages/sklearn/utils/validation.py:595: DataConversionWarning: Data with input dtype int64 was converted to float64 by MinMaxScaler.\n",
      "  warnings.warn(msg, DataConversionWarning)\n"
     ]
    }
   ],
   "source": [
    "#import tensorflow as tf\n",
    "from tensorflow.keras.models import Sequential\n",
    "from tensorflow.keras.layers import LSTM, Dense, Dropout, Bidirectional\n",
    "from sklearn import preprocessing\n",
    "from sklearn.model_selection import train_test_split\n",
    "from yahoo_fin import stock_info as si\n",
    "from collections import deque\n",
    "\n",
    "import numpy as np\n",
    "import pandas as pd\n",
    "import random\n",
    "import preproc\n",
    "from parameters import *\n",
    "\n",
    "# set seed, so we can get the same results after rerunning several times\n",
    "np.random.seed(314)\n",
    "#tf.random.set_seed(314)\n",
    "random.seed(314)\n",
    "\n",
    "\n",
    "def isUp(df_data, field):\n",
    "    df_data['diff_' + '%s' % field] = df_data[field].diff(1) > 0\n",
    "    df_data['isUp_' + '%s' % field] = [1 if x > 0 else 0 for x in df_data['diff_' + '%s' % field]]\n",
    "\n",
    "\n",
    "def load_data(ticker, n_steps=3, scale=True, shuffle=True, lookup_step=1,\n",
    "              test_size=0.2, feature_columns=['adjclose', 'volume', 'open', 'high', 'low'],\n",
    "              test_days_ago=0, validation_days=0):\n",
    "    \"\"\"\n",
    "    Loads data from Yahoo Finance source, as well as scaling, shuffling, normalizing and splitting.\n",
    "    Params:\n",
    "        ticker (str/pd.DataFrame): the ticker you want to load, examples include AAPL, TESL, etc.\n",
    "        n_steps (int): the historical sequence length (i.e window size) used to predict, default is 50\n",
    "        scale (bool): whether to scale prices from 0 to 1, default is True\n",
    "        shuffle (bool): whether to shuffle the data, default is True\n",
    "        lookup_step (int): the future lookup step to predict, default is 1 (e.g next day)\n",
    "        test_size (float): ratio for test data, default is 0.2 (20% testing data)\n",
    "        feature_columns (list): the list of features to use to feed into the model, default is everything grabbed from yahoo_fin\n",
    "    \"\"\"\n",
    "    # see if ticker is already a loaded stock from yahoo finance\n",
    "    if isinstance(ticker, str):\n",
    "        # load it from yahoo_fin library\n",
    "        df = si.get_data(ticker)\n",
    "    elif isinstance(ticker, pd.DataFrame):\n",
    "        # already loaded, use it directly\n",
    "        df = ticker\n",
    "    else:\n",
    "        raise TypeError(\"ticker can be either a str or a `pd.DataFrame` instances\")\n",
    "\n",
    "    if test_days_ago > 0:\n",
    "        df = df[-test_days_ago:]\n",
    "\n",
    "\n",
    "    # todo check indicators znachimost relevance/divergence on each train cycle\n",
    "    # my add indicators\n",
    "    ##isUp(df, 'adjclose')\n",
    "    preproc.isUp(df, \"adjclose\")\n",
    "    preproc.pctChange1p(df, \"adjclose\")\n",
    "    preproc.pctChange1p(df, \"high\")\n",
    "    preproc.pctChange1p(df, \"low\")\n",
    "    preproc.sma(df, \"adjclose\", 2)\n",
    "    preproc.sma(df, \"high\", 2)\n",
    "    preproc.sma(df, \"low\", 2)\n",
    "    preproc.sma(df, \"high\", 3)\n",
    "    preproc.sma(df, \"low\", 3)\n",
    "    preproc.ema(df, \"adjclose\", 2)\n",
    "    preproc.volatility(df, \"adjclose\", 10)\n",
    "\n",
    "     #O'neil test\n",
    "    preproc.sma(df, \"adjclose\", 5)\n",
    "    preproc.sma(df, \"adjclose\", 10)\n",
    "    preproc.sma(df, \"adjclose\", 20)\n",
    "    preproc.sma(df, \"adjclose\", 50)\n",
    "    preproc.sma(df, \"adjclose\", 100)\n",
    "    preproc.sma(df, \"adjclose\", 200)\n",
    "\n",
    "    preproc.sma(df, \"adjclose\", 10)\n",
    "    preproc.sma(df, \"high\", 10)\n",
    "    preproc.sma(df, \"low\", 10)\n",
    "    preproc.sma(df, \"volume\", 10)\n",
    "\n",
    "    #\n",
    "\n",
    "    # this will contain all the elements we want to return from this function\n",
    "    result = {}\n",
    "    # we will also return the original dataframe itself\n",
    "    result['df'] = df.copy()\n",
    "\n",
    "    # isUp(df, 'adjclose')\n",
    "    # make sure that the passed feature_columns exist in the dataframe\n",
    "    for col in feature_columns:\n",
    "        assert col in df.columns, f\"'{col}' does not exist in the dataframe.\"\n",
    "\n",
    "    if scale:\n",
    "        column_scaler = {}\n",
    "        # scale the data (prices) from 0 to 1\n",
    "        for column in feature_columns:\n",
    "            scaler = preprocessing.MinMaxScaler()\n",
    "            df[column] = scaler.fit_transform(np.expand_dims(df[column].values, axis=1))\n",
    "            column_scaler[column] = scaler\n",
    "\n",
    "        # add the MinMaxScaler instances to the result returned\n",
    "        result[\"column_scaler\"] = column_scaler\n",
    "\n",
    "    # add the target column (label) by shifting by `lookup_step`\n",
    "    df['future'] = df[PREDICT_FIELD].shift(-lookup_step)\n",
    "    ##df['future'] = df['adjclose'].shift(-lookup_step)\n",
    "\n",
    "    # last `lookup_step` columns contains NaN in future column\n",
    "    # get them before droping NaNs\n",
    "    #last_sequence = np.array(df[feature_columns].tail(lookup_step))\n",
    "\n",
    "    print(\"Before drop NaNs len: \", len(df))\n",
    "    # drop NaNs\n",
    "    df.dropna(inplace=True)\n",
    "    print(\"After drop NaNs len: \", len(df))\n",
    "\n",
    "    sequence_data = []\n",
    "    sequences = deque(maxlen=n_steps)\n",
    "\n",
    "    for entry, target in zip(df[feature_columns].values, df['future'].values):\n",
    "        sequences.append(entry)\n",
    "        if len(sequences) == n_steps:\n",
    "            sequence_data.append([np.array(sequences), target])\n",
    "\n",
    "\n",
    "    # split the dataset\n",
    "    # #result[\"X_train\"], result[\"X_test\"], result[\"y_train\"], result[\"y_test\"] = train_test_split(X, y,\n",
    "    #                                                                                             test_size=test_size,\n",
    "    #                                                                                             shuffle=shuffle)\n",
    "    # return the result\n",
    "    return result\n",
    "\n",
    "\n",
    "res = load_data(\"fsly\")\n",
    "print(\"debug\")\n",
    "lows5d = np.where(res[\"df\"][\"adjclose\"] < res[\"df\"][\"sma_200_adjclose\"])"
   ]
  },
  {
   "cell_type": "code",
   "execution_count": 78,
   "metadata": {},
   "outputs": [],
   "source": [
    "df = res[\"df\"][-10:]"
   ]
  },
  {
   "cell_type": "code",
   "execution_count": 82,
   "metadata": {},
   "outputs": [
    {
     "name": "stdout",
     "output_type": "stream",
     "text": [
      "10\n"
     ]
    }
   ],
   "source": [
    "print(len(np.where(df[\"adjclose\"] < df[\"sma_200_adjclose\"])[0]))"
   ]
  },
  {
   "cell_type": "code",
   "execution_count": 80,
   "metadata": {},
   "outputs": [
    {
     "name": "stdout",
     "output_type": "stream",
     "text": [
      "6\n"
     ]
    }
   ],
   "source": [
    "print(len(np.where(df[\"adjclose\"] > df[\"sma_5_adjclose\"])[0]))"
   ]
  },
  {
   "cell_type": "code",
   "execution_count": 81,
   "metadata": {},
   "outputs": [
    {
     "name": "stdout",
     "output_type": "stream",
     "text": [
      "4\n"
     ]
    }
   ],
   "source": [
    "print(len(np.where(df[\"adjclose\"] < df[\"sma_5_adjclose\"])[0]))"
   ]
  }
 ],
 "metadata": {
  "kernelspec": {
   "display_name": "Python 3",
   "language": "python",
   "name": "python3"
  },
  "language_info": {
   "codemirror_mode": {
    "name": "ipython",
    "version": 3
   },
   "file_extension": ".py",
   "mimetype": "text/x-python",
   "name": "python",
   "nbconvert_exporter": "python",
   "pygments_lexer": "ipython3",
   "version": "3.7.3"
  }
 },
 "nbformat": 4,
 "nbformat_minor": 2
}
